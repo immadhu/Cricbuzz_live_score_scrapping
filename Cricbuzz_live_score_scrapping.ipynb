{
 "cells": [
  {
   "cell_type": "code",
   "execution_count": 84,
   "metadata": {},
   "outputs": [],
   "source": [
    "import requests\n",
    "from bs4 import BeautifulSoup\n",
    "from urllib.request import urlopen\n",
    "url=\"https://www.cricbuzz.com/cricket-match/live-scores\"\n",
    "r=requests.get(url)\n",
    "htmlContent=r.text\n",
    "#print(htmlContent)"
   ]
  },
  {
   "cell_type": "code",
   "execution_count": 85,
   "metadata": {},
   "outputs": [],
   "source": [
    "soup=BeautifulSoup(htmlContent,'html.parser')\n",
    "#print(soup)"
   ]
  },
  {
   "cell_type": "code",
   "execution_count": 86,
   "metadata": {},
   "outputs": [
    {
     "name": "stdout",
     "output_type": "stream",
     "text": [
      "30\n"
     ]
    }
   ],
   "source": [
    "matches=soup.find_all('div',{'class':'cb-col cb-col-100 cb-lv-main'})\n",
    "print(len(matches))"
   ]
  },
  {
   "cell_type": "code",
   "execution_count": 87,
   "metadata": {},
   "outputs": [
    {
     "name": "stdout",
     "output_type": "stream",
     "text": [
      "Pakistan vs Sri Lanka, PAK 42/2 (11.4 Ovs)  •  SL  -\n",
      "India vs West Indies, WI 280-all out (43.3 Ovs)  •  IND 387/5 (50.0 Ovs) India won by 107 runs\n",
      "Auckland vs Otago, OTG 55/2 (7.4 Ovs)  •  AKL  No result\n",
      "Chattogram Challengers vs Dhaka Platoon, DP 205-all out (20.0 Ovs)  •  CGC 221/4 (20.0 Ovs) Chattogram Challengers won by 16 runs\n",
      "Cumilla Warriors vs Rangpur Rangers, CW 182/4 (19.4 Ovs)  •  RPR 181/8 (20.0 Ovs) Cumilla Warriors won by 6 wkts\n",
      "Sydney Sixers vs Perth Scorchers, SYS 137/2 (15.0 Ovs)  •  PRS 131 (20.0 Ovs) Sydney Sixers won by 8 wkts\n",
      "Melbourne Renegades vs Sydney Thunder, - -\n",
      "Pakistan Women vs England Women, PAKW 101/9 (20.0 Ovs)  •  ENGW 185/5 (20.0 Ovs) England Women won by 84 runs\n",
      "South African Invitation XI vs England, RSAIXI 289-all out (68.0 Ovs)  •  ENG 309/4 decl Match drawn\n",
      "Maharashtra vs Jammu and Kashmir, JK 209, 250/7 (70.0 Ovs)  •  MAH 109 -\n",
      "Odisha vs Services, ODSA 455/8 (137.0 Ovs)  •  SER 271 -\n",
      "Assam vs Jharkhand, ASM 162, 48/1 (15.0 Ovs)  •  JHKD 415/9 decl -\n",
      "Chandigarh vs Bihar, BIH 6/1 (3.0 Ovs)  •  CDG 420 -\n",
      "Goa vs Meghalaya, GOA 364/5 (125.0 Ovs)  •  MGLY 203 -\n",
      "Manipur vs Nagaland, MNP 116, 176/7 (69.0 Ovs)  •  NGL 400 -\n",
      "Arunachal Pradesh vs Mizoram, MIZ 463/4 (103.0 Ovs)  •  ARNP 343 -\n",
      "Chhattisgarh vs Uttarakhand, CG 520/7 decl (135.2 Ovs)  •  UTK 120 -\n",
      "Kerala vs Bengal, BEN 307-all out (111.2 Ovs)  •  KER 239 -\n",
      "Punjab vs Hyderabad, PUN 259/5 (70.3 Ovs)  •  HYD 242 -\n",
      "Vidarbha vs Rajasthan, RAJ 157/4 (48.0 Ovs)  •  VID 510/8 decl -\n",
      "Andhra vs Delhi, AP 281/8 (104.0 Ovs)  •  DEL 215 -\n",
      "Karnataka vs Uttar Pradesh, KAR 222/7 (89.4 Ovs)  •  UP 281 -\n",
      "Madhya Pradesh vs Baroda, MP 125, 153/4 (69.0 Ovs)  •  BRD 222 -\n",
      "Railways vs Saurashtra, SAUR 287/4 (90.0 Ovs)  •  RLYS 248 -\n",
      "Tamil Nadu vs Himachal Pradesh, TN 96, 37/2 (15.0 Ovs)  •  HP 158, 154 -\n",
      "Puducherry vs Sikkim, SKM 65, 112-all out (43.0 Ovs)  •  PDC 446/8 decl Puducherry won by an innings and 269 runs\n",
      "Haryana vs Tripura, TRI 68, 49-all out (16.3 Ovs)  •  HAR 242 Haryana won by an innings and 125 runs\n",
      "Cape Cobras vs Knights, - -\n",
      "Dolphins vs Warriors, - -\n",
      "Lions vs Titans, - -\n",
      "╒══════════════════════════════════════════╤════════════════════════════════════════════════════╤═══════════════════════════════════════════╕\n",
      "│ Name                                     │ Score                                              │ Result                                    │\n",
      "├──────────────────────────────────────────┼────────────────────────────────────────────────────┼───────────────────────────────────────────┤\n",
      "│ Pakistan vs Sri Lanka,                   │ PAK 42/2 (11.4 Ovs)  •  SL                         │ -                                         │\n",
      "├──────────────────────────────────────────┼────────────────────────────────────────────────────┼───────────────────────────────────────────┤\n",
      "│ India vs West Indies,                    │ WI 280-all out (43.3 Ovs)  •  IND 387/5 (50.0 Ovs) │ India won by 107 runs                     │\n",
      "├──────────────────────────────────────────┼────────────────────────────────────────────────────┼───────────────────────────────────────────┤\n",
      "│ Auckland vs Otago,                       │ OTG 55/2 (7.4 Ovs)  •  AKL                         │ No result                                 │\n",
      "├──────────────────────────────────────────┼────────────────────────────────────────────────────┼───────────────────────────────────────────┤\n",
      "│ Chattogram Challengers vs Dhaka Platoon, │ DP 205-all out (20.0 Ovs)  •  CGC 221/4 (20.0 Ovs) │ Chattogram Challengers won by 16 runs     │\n",
      "├──────────────────────────────────────────┼────────────────────────────────────────────────────┼───────────────────────────────────────────┤\n",
      "│ Cumilla Warriors vs Rangpur Rangers,     │ CW 182/4 (19.4 Ovs)  •  RPR 181/8 (20.0 Ovs)       │ Cumilla Warriors won by 6 wkts            │\n",
      "├──────────────────────────────────────────┼────────────────────────────────────────────────────┼───────────────────────────────────────────┤\n",
      "│ Sydney Sixers vs Perth Scorchers,        │ SYS 137/2 (15.0 Ovs)  •  PRS 131 (20.0 Ovs)        │ Sydney Sixers won by 8 wkts               │\n",
      "├──────────────────────────────────────────┼────────────────────────────────────────────────────┼───────────────────────────────────────────┤\n",
      "│ Melbourne Renegades vs Sydney Thunder,   │ -                                                  │ -                                         │\n",
      "├──────────────────────────────────────────┼────────────────────────────────────────────────────┼───────────────────────────────────────────┤\n",
      "│ Pakistan Women vs England Women,         │ PAKW 101/9 (20.0 Ovs)  •  ENGW 185/5 (20.0 Ovs)    │ England Women won by 84 runs              │\n",
      "├──────────────────────────────────────────┼────────────────────────────────────────────────────┼───────────────────────────────────────────┤\n",
      "│ South African Invitation XI vs England,  │ RSAIXI 289-all out (68.0 Ovs)  •  ENG 309/4 decl   │ Match drawn                               │\n",
      "├──────────────────────────────────────────┼────────────────────────────────────────────────────┼───────────────────────────────────────────┤\n",
      "│ Maharashtra vs Jammu and Kashmir,        │ JK 209, 250/7 (70.0 Ovs)  •  MAH 109               │ -                                         │\n",
      "├──────────────────────────────────────────┼────────────────────────────────────────────────────┼───────────────────────────────────────────┤\n",
      "│ Odisha vs Services,                      │ ODSA 455/8 (137.0 Ovs)  •  SER 271                 │ -                                         │\n",
      "├──────────────────────────────────────────┼────────────────────────────────────────────────────┼───────────────────────────────────────────┤\n",
      "│ Assam vs Jharkhand,                      │ ASM 162, 48/1 (15.0 Ovs)  •  JHKD 415/9 decl       │ -                                         │\n",
      "├──────────────────────────────────────────┼────────────────────────────────────────────────────┼───────────────────────────────────────────┤\n",
      "│ Chandigarh vs Bihar,                     │ BIH 6/1 (3.0 Ovs)  •  CDG 420                      │ -                                         │\n",
      "├──────────────────────────────────────────┼────────────────────────────────────────────────────┼───────────────────────────────────────────┤\n",
      "│ Goa vs Meghalaya,                        │ GOA 364/5 (125.0 Ovs)  •  MGLY 203                 │ -                                         │\n",
      "├──────────────────────────────────────────┼────────────────────────────────────────────────────┼───────────────────────────────────────────┤\n",
      "│ Manipur vs Nagaland,                     │ MNP 116, 176/7 (69.0 Ovs)  •  NGL 400              │ -                                         │\n",
      "├──────────────────────────────────────────┼────────────────────────────────────────────────────┼───────────────────────────────────────────┤\n",
      "│ Arunachal Pradesh vs Mizoram,            │ MIZ 463/4 (103.0 Ovs)  •  ARNP 343                 │ -                                         │\n",
      "├──────────────────────────────────────────┼────────────────────────────────────────────────────┼───────────────────────────────────────────┤\n",
      "│ Chhattisgarh vs Uttarakhand,             │ CG 520/7 decl (135.2 Ovs)  •  UTK 120              │ -                                         │\n",
      "├──────────────────────────────────────────┼────────────────────────────────────────────────────┼───────────────────────────────────────────┤\n",
      "│ Kerala vs Bengal,                        │ BEN 307-all out (111.2 Ovs)  •  KER 239            │ -                                         │\n",
      "├──────────────────────────────────────────┼────────────────────────────────────────────────────┼───────────────────────────────────────────┤\n",
      "│ Punjab vs Hyderabad,                     │ PUN 259/5 (70.3 Ovs)  •  HYD 242                   │ -                                         │\n",
      "├──────────────────────────────────────────┼────────────────────────────────────────────────────┼───────────────────────────────────────────┤\n",
      "│ Vidarbha vs Rajasthan,                   │ RAJ 157/4 (48.0 Ovs)  •  VID 510/8 decl            │ -                                         │\n",
      "├──────────────────────────────────────────┼────────────────────────────────────────────────────┼───────────────────────────────────────────┤\n",
      "│ Andhra vs Delhi,                         │ AP 281/8 (104.0 Ovs)  •  DEL 215                   │ -                                         │\n",
      "├──────────────────────────────────────────┼────────────────────────────────────────────────────┼───────────────────────────────────────────┤\n",
      "│ Karnataka vs Uttar Pradesh,              │ KAR 222/7 (89.4 Ovs)  •  UP 281                    │ -                                         │\n",
      "├──────────────────────────────────────────┼────────────────────────────────────────────────────┼───────────────────────────────────────────┤\n",
      "│ Madhya Pradesh vs Baroda,                │ MP 125, 153/4 (69.0 Ovs)  •  BRD 222               │ -                                         │\n",
      "├──────────────────────────────────────────┼────────────────────────────────────────────────────┼───────────────────────────────────────────┤\n",
      "│ Railways vs Saurashtra,                  │ SAUR 287/4 (90.0 Ovs)  •  RLYS 248                 │ -                                         │\n",
      "├──────────────────────────────────────────┼────────────────────────────────────────────────────┼───────────────────────────────────────────┤\n",
      "│ Tamil Nadu vs Himachal Pradesh,          │ TN 96, 37/2 (15.0 Ovs)  •  HP 158, 154             │ -                                         │\n",
      "├──────────────────────────────────────────┼────────────────────────────────────────────────────┼───────────────────────────────────────────┤\n",
      "│ Puducherry vs Sikkim,                    │ SKM 65, 112-all out (43.0 Ovs)  •  PDC 446/8 decl  │ Puducherry won by an innings and 269 runs │\n",
      "├──────────────────────────────────────────┼────────────────────────────────────────────────────┼───────────────────────────────────────────┤\n",
      "│ Haryana vs Tripura,                      │ TRI 68, 49-all out (16.3 Ovs)  •  HAR 242          │ Haryana won by an innings and 125 runs    │\n",
      "├──────────────────────────────────────────┼────────────────────────────────────────────────────┼───────────────────────────────────────────┤\n",
      "│ Cape Cobras vs Knights,                  │ -                                                  │ -                                         │\n",
      "├──────────────────────────────────────────┼────────────────────────────────────────────────────┼───────────────────────────────────────────┤\n",
      "│ Dolphins vs Warriors,                    │ -                                                  │ -                                         │\n",
      "├──────────────────────────────────────────┼────────────────────────────────────────────────────┼───────────────────────────────────────────┤\n",
      "│ Lions vs Titans,                         │ -                                                  │ -                                         │\n",
      "╘══════════════════════════════════════════╧════════════════════════════════════════════════════╧═══════════════════════════════════════════╛\n"
     ]
    }
   ],
   "source": [
    "match_list=[('Name','Score','Result')]\n",
    "for match in matches:\n",
    "    name=match.find('h3')\n",
    "    name=name.text\n",
    "   # print(name)\n",
    "    score =match.find('div',{'class':\"cb-lv-scrs-col text-black\"})\n",
    "    if score:\n",
    "        final_score = score.text\n",
    "    else:\n",
    "        final_score = '-'\n",
    "        \n",
    "   # print(final_score)\n",
    "    result = match.find('div',{'class':'cb-lv-scrs-col cb-text-complete'})\n",
    "    if result:\n",
    "        result = result.text\n",
    "        #result = result.replace(',','')    \n",
    "    else:\n",
    "        result ='-'\n",
    "        \n",
    "    match_list.append((name,final_score,result))  \n",
    "\n",
    "    print(name,final_score,result)\n",
    "\n",
    "from tabulate import tabulate\n",
    "print(tabulate(match_list,tablefmt='fancy_grid'))\n"
   ]
  },
  {
   "cell_type": "code",
   "execution_count": null,
   "metadata": {},
   "outputs": [],
   "source": []
  },
  {
   "cell_type": "code",
   "execution_count": null,
   "metadata": {},
   "outputs": [],
   "source": []
  },
  {
   "cell_type": "code",
   "execution_count": null,
   "metadata": {},
   "outputs": [],
   "source": []
  }
 ],
 "metadata": {
  "kernelspec": {
   "display_name": "Python 3",
   "language": "python",
   "name": "python3"
  },
  "language_info": {
   "codemirror_mode": {
    "name": "ipython",
    "version": 3
   },
   "file_extension": ".py",
   "mimetype": "text/x-python",
   "name": "python",
   "nbconvert_exporter": "python",
   "pygments_lexer": "ipython3",
   "version": "3.6.5"
  }
 },
 "nbformat": 4,
 "nbformat_minor": 2
}
